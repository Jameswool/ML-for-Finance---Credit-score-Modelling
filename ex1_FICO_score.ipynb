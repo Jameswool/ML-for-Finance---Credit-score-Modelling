{
 "cells": [
  {
   "cell_type": "code",
   "execution_count": 15,
   "metadata": {},
   "outputs": [],
   "source": [
    "import numpy as np\n",
    "import pandas as pd\n",
    "import matplotlib.pyplot as plt"
   ]
  },
  {
   "attachments": {},
   "cell_type": "markdown",
   "metadata": {},
   "source": [
    "# FICO SCORE: \n",
    "\n",
    "## 0. The computation of the Score: \n",
    "\n",
    "As discussed in class, the FICO score is one of the most adopted credit scores in the US market. In this exercise, we aim at reconstructing it using the formula we saw in class. We recall that, the FICO Score is defined by the following components: \n",
    "\n",
    "1. 35 % is given by the payment history; \n",
    "2. 30 % is given by the amounts owed. We assume that this indicator is described by a transformation of the ratio between the Amount already paid and the amont of money in the loan still to pay (see 2.1 below); \n",
    "3. 15 % is given by the Length of Credit History; \n",
    "4. 10 % is given by the Type of Credit Used. This indicator is given by a coefficient associated with the type of loan / morgage that the borrower has signed (see 2.2 below);\n",
    "5. 10 % is given by the percentage of the loan that is new. \n",
    "\n",
    "## 1. Provide some exploratory analysis:\n",
    "\n",
    "1. description of the data; \n",
    "1. number of missing;\n",
    "2. correlation matrix.\n",
    "\n",
    "\n",
    "## 2. Construction indicators to be computed: \n",
    "### 2.1 Variable: \"Amount Owed\": \n",
    "\"Amount owed\" is an indicator describing the ratio between the amount of money that are available to the borrower (A) divided by the amount of money that are still used by the borrower (U). The first task is to compute A/U\n",
    "- The amount of money that are used by the borrower (U) are determined by the variable \"Amount to Pay\" ; \n",
    "- The difference between the amount of money available and the money that are still used by the borrower are described by the variable \"Amount Paid\" (U-A). \n",
    "Then, using \"Amount to Pay\" and \"Amount Paid\", compute the \"Ratio Available over Used\".\n",
    "\n",
    "### 2.2 Variable \"Type of Credit Used\"\n",
    "To construct the variable \"Type of Credit Used\", we have to assign a weight to every type of loan. This weight will be used to compute the score. The weights to be assigned are:\n",
    "- Auto          --> 10;\n",
    "- House         --> 15;\n",
    "- Auto + House  --> 20.\n",
    "\n",
    "### 2.3 Variable \"New Credit %\"\n",
    "To construct the variable \"New Credit %\" the ratio between amount of money associated with new credit divided by the total amount of the loan. \n",
    "\n",
    "## 3. Computation of the FICO score\n",
    "\n",
    "## 4. Construction of Variable \"FICO Rating\" \n",
    "\n",
    "As discussed in class, FICO score can be used to introduce a rating. The class are:\n",
    "\n",
    "1. Poor:        FICO < 579;\n",
    "2. Fair:        580 < FICO < 669; \n",
    "3. Good:        670 < FICO < 739;\n",
    "4. Very Good    740 < FICO < 799;\n",
    "5. Exceptional  FICO > 800\n",
    "\n",
    "Represent grafically the quality of the portfolio that populates that dataset based on the rating computed through the FICO score."
   ]
  }
 ],
 "metadata": {
  "kernelspec": {
   "display_name": ".venv",
   "language": "python",
   "name": "python3"
  },
  "language_info": {
   "codemirror_mode": {
    "name": "ipython",
    "version": 3
   },
   "file_extension": ".py",
   "mimetype": "text/x-python",
   "name": "python",
   "nbconvert_exporter": "python",
   "pygments_lexer": "ipython3",
   "version": "3.12.2"
  },
  "orig_nbformat": 4
 },
 "nbformat": 4,
 "nbformat_minor": 2
}
